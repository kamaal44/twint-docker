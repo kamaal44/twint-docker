{
 "cells": [
  {
   "cell_type": "markdown",
   "metadata": {
    "collapsed": true
   },
   "source": [
    "# How to work with the AlphaVantage Wrapper\n",
    "\n",
    "## Prerequisites\n",
    "\n",
    "First, we need to declare these imports :"
   ]
  },
  {
   "cell_type": "code",
   "execution_count": 7,
   "metadata": {},
   "outputs": [],
   "source": [
    "from alpha_vantage.timeseries import TimeSeries\n",
    "from alpha_vantage.cryptocurrencies import CryptoCurrencies\n",
    "import matplotlib.pyplot as plt"
   ]
  },
  {
   "cell_type": "markdown",
   "metadata": {},
   "source": [
    "In this short file, I will try to explain how to use the AlphaVantage Wrapper we made with simple, yet interesting examples"
   ]
  },
  {
   "cell_type": "markdown",
   "metadata": {},
   "source": [
    "## Using the TimeSeries class\n",
    "\n",
    "We will show you how to get basic information about the MSFT (Microsoft) using the TimeSeries class. This is pretty straightforward :"
   ]
  },
  {
   "cell_type": "code",
   "execution_count": 8,
   "metadata": {},
   "outputs": [
    {
     "data": {
      "text/html": [
       "<div>\n",
       "<style scoped>\n",
       "    .dataframe tbody tr th:only-of-type {\n",
       "        vertical-align: middle;\n",
       "    }\n",
       "\n",
       "    .dataframe tbody tr th {\n",
       "        vertical-align: top;\n",
       "    }\n",
       "\n",
       "    .dataframe thead th {\n",
       "        text-align: right;\n",
       "    }\n",
       "</style>\n",
       "<table border=\"1\" class=\"dataframe\">\n",
       "  <thead>\n",
       "    <tr style=\"text-align: right;\">\n",
       "      <th></th>\n",
       "      <th>1. open</th>\n",
       "      <th>2. high</th>\n",
       "      <th>3. low</th>\n",
       "      <th>4. close</th>\n",
       "      <th>5. volume</th>\n",
       "    </tr>\n",
       "  </thead>\n",
       "  <tbody>\n",
       "    <tr>\n",
       "      <th>count</th>\n",
       "      <td>3910.000000</td>\n",
       "      <td>3910.000000</td>\n",
       "      <td>3910.000000</td>\n",
       "      <td>3910.000000</td>\n",
       "      <td>3.910000e+03</td>\n",
       "    </tr>\n",
       "    <tr>\n",
       "      <th>mean</th>\n",
       "      <td>99.148020</td>\n",
       "      <td>99.181798</td>\n",
       "      <td>99.114687</td>\n",
       "      <td>99.148607</td>\n",
       "      <td>5.178539e+04</td>\n",
       "    </tr>\n",
       "    <tr>\n",
       "      <th>std</th>\n",
       "      <td>1.545118</td>\n",
       "      <td>1.541673</td>\n",
       "      <td>1.548638</td>\n",
       "      <td>1.545517</td>\n",
       "      <td>1.905807e+05</td>\n",
       "    </tr>\n",
       "    <tr>\n",
       "      <th>min</th>\n",
       "      <td>96.420000</td>\n",
       "      <td>96.480000</td>\n",
       "      <td>96.320000</td>\n",
       "      <td>96.410000</td>\n",
       "      <td>3.008000e+03</td>\n",
       "    </tr>\n",
       "    <tr>\n",
       "      <th>25%</th>\n",
       "      <td>97.850000</td>\n",
       "      <td>97.889250</td>\n",
       "      <td>97.810000</td>\n",
       "      <td>97.850000</td>\n",
       "      <td>2.036475e+04</td>\n",
       "    </tr>\n",
       "    <tr>\n",
       "      <th>50%</th>\n",
       "      <td>98.685000</td>\n",
       "      <td>98.730000</td>\n",
       "      <td>98.650000</td>\n",
       "      <td>98.682600</td>\n",
       "      <td>3.204500e+04</td>\n",
       "    </tr>\n",
       "    <tr>\n",
       "      <th>75%</th>\n",
       "      <td>100.440000</td>\n",
       "      <td>100.474500</td>\n",
       "      <td>100.420000</td>\n",
       "      <td>100.449125</td>\n",
       "      <td>5.236575e+04</td>\n",
       "    </tr>\n",
       "    <tr>\n",
       "      <th>max</th>\n",
       "      <td>102.310000</td>\n",
       "      <td>102.330000</td>\n",
       "      <td>102.250000</td>\n",
       "      <td>102.300000</td>\n",
       "      <td>7.399619e+06</td>\n",
       "    </tr>\n",
       "  </tbody>\n",
       "</table>\n",
       "</div>"
      ],
      "text/plain": [
       "           1. open      2. high       3. low     4. close     5. volume\n",
       "count  3910.000000  3910.000000  3910.000000  3910.000000  3.910000e+03\n",
       "mean     99.148020    99.181798    99.114687    99.148607  5.178539e+04\n",
       "std       1.545118     1.541673     1.548638     1.545517  1.905807e+05\n",
       "min      96.420000    96.480000    96.320000    96.410000  3.008000e+03\n",
       "25%      97.850000    97.889250    97.810000    97.850000  2.036475e+04\n",
       "50%      98.685000    98.730000    98.650000    98.682600  3.204500e+04\n",
       "75%     100.440000   100.474500   100.420000   100.449125  5.236575e+04\n",
       "max     102.310000   102.330000   102.250000   102.300000  7.399619e+06"
      ]
     },
     "execution_count": 8,
     "metadata": {},
     "output_type": "execute_result"
    }
   ],
   "source": [
    "ts = TimeSeries(key=\"84WDI082Z0HOREL6\", output_format='pandas')\n",
    "data, _ = ts.get_intraday(symbol='MSFT', interval='1min', outputsize='full')\n",
    "# Show data grid\n",
    "data.describe()"
   ]
  },
  {
   "cell_type": "code",
   "execution_count": 9,
   "metadata": {},
   "outputs": [
    {
     "data": {
      "image/png": "[encoded data removed]",
      "text/plain": [
       "<Figure size 432x288 with 1 Axes>"
      ]
     },
     "metadata": {},
     "output_type": "display_data"
    },
    {
     "name": "stdout",
     "output_type": "stream",
     "text": [
      "           1. open      2. high       3. low     4. close     5. volume\n",
      "count  3910.000000  3910.000000  3910.000000  3910.000000  3.910000e+03\n",
      "mean     99.148020    99.181798    99.114687    99.148607  5.178539e+04\n",
      "std       1.545118     1.541673     1.548638     1.545517  1.905807e+05\n",
      "min      96.420000    96.480000    96.320000    96.410000  3.008000e+03\n",
      "25%      97.850000    97.889250    97.810000    97.850000  2.036475e+04\n",
      "50%      98.685000    98.730000    98.650000    98.682600  3.204500e+04\n",
      "75%     100.440000   100.474500   100.420000   100.449125  5.236575e+04\n",
      "max     102.310000   102.330000   102.250000   102.300000  7.399619e+06\n"
     ]
    }
   ],
   "source": [
    "data['4. close'].plot()\n",
    "plt.title(\"Intraday for the MSFT stock (1 min)\")\n",
    "plt.grid()\n",
    "plt.show()\n",
    "print(_)"
   ]
  },
  {
   "cell_type": "markdown",
   "metadata": {},
   "source": [
    "## Using the CryptoCurrencies class\n",
    "\n",
    "Let's try here to get on the hype train and get the value of XRP (Ripple) in USD (dollars)"
   ]
  },
  {
   "cell_type": "code",
   "execution_count": 10,
   "metadata": {},
   "outputs": [
    {
     "data": {
      "text/html": [
       "<div>\n",
       "<style scoped>\n",
       "    .dataframe tbody tr th:only-of-type {\n",
       "        vertical-align: middle;\n",
       "    }\n",
       "\n",
       "    .dataframe tbody tr th {\n",
       "        vertical-align: top;\n",
       "    }\n",
       "\n",
       "    .dataframe thead th {\n",
       "        text-align: right;\n",
       "    }\n",
       "</style>\n",
       "<table border=\"1\" class=\"dataframe\">\n",
       "  <thead>\n",
       "    <tr style=\"text-align: right;\">\n",
       "      <th></th>\n",
       "      <th>1a. price (USD)</th>\n",
       "      <th>1b. price (USD)</th>\n",
       "      <th>2. volume</th>\n",
       "      <th>3. market cap (USD)</th>\n",
       "    </tr>\n",
       "  </thead>\n",
       "  <tbody>\n",
       "    <tr>\n",
       "      <th>count</th>\n",
       "      <td>462.000000</td>\n",
       "      <td>462.000000</td>\n",
       "      <td>4.620000e+02</td>\n",
       "      <td>4.620000e+02</td>\n",
       "    </tr>\n",
       "    <tr>\n",
       "      <th>mean</th>\n",
       "      <td>0.656555</td>\n",
       "      <td>0.656555</td>\n",
       "      <td>6.669884e+07</td>\n",
       "      <td>4.377268e+07</td>\n",
       "    </tr>\n",
       "    <tr>\n",
       "      <th>std</th>\n",
       "      <td>0.010753</td>\n",
       "      <td>0.010753</td>\n",
       "      <td>5.736095e+06</td>\n",
       "      <td>3.613021e+06</td>\n",
       "    </tr>\n",
       "    <tr>\n",
       "      <th>min</th>\n",
       "      <td>0.635366</td>\n",
       "      <td>0.635366</td>\n",
       "      <td>2.940447e+07</td>\n",
       "      <td>1.919627e+07</td>\n",
       "    </tr>\n",
       "    <tr>\n",
       "      <th>25%</th>\n",
       "      <td>0.648239</td>\n",
       "      <td>0.648239</td>\n",
       "      <td>6.307846e+07</td>\n",
       "      <td>4.198744e+07</td>\n",
       "    </tr>\n",
       "    <tr>\n",
       "      <th>50%</th>\n",
       "      <td>0.655795</td>\n",
       "      <td>0.655795</td>\n",
       "      <td>6.741718e+07</td>\n",
       "      <td>4.371670e+07</td>\n",
       "    </tr>\n",
       "    <tr>\n",
       "      <th>75%</th>\n",
       "      <td>0.663251</td>\n",
       "      <td>0.663251</td>\n",
       "      <td>7.025641e+07</td>\n",
       "      <td>4.570467e+07</td>\n",
       "    </tr>\n",
       "    <tr>\n",
       "      <th>max</th>\n",
       "      <td>0.682869</td>\n",
       "      <td>0.682869</td>\n",
       "      <td>7.822321e+07</td>\n",
       "      <td>5.113470e+07</td>\n",
       "    </tr>\n",
       "  </tbody>\n",
       "</table>\n",
       "</div>"
      ],
      "text/plain": [
       "       1a. price (USD)  1b. price (USD)     2. volume  3. market cap (USD)\n",
       "count       462.000000       462.000000  4.620000e+02         4.620000e+02\n",
       "mean          0.656555         0.656555  6.669884e+07         4.377268e+07\n",
       "std           0.010753         0.010753  5.736095e+06         3.613021e+06\n",
       "min           0.635366         0.635366  2.940447e+07         1.919627e+07\n",
       "25%           0.648239         0.648239  6.307846e+07         4.198744e+07\n",
       "50%           0.655795         0.655795  6.741718e+07         4.371670e+07\n",
       "75%           0.663251         0.663251  7.025641e+07         4.570467e+07\n",
       "max           0.682869         0.682869  7.822321e+07         5.113470e+07"
      ]
     },
     "execution_count": 10,
     "metadata": {},
     "output_type": "execute_result"
    }
   ],
   "source": [
    "cc = CryptoCurrencies(key=\"84WDI082Z0HOREL6\")\n",
    "cc.output_format = 'pandas'\n",
    "data, _ = cc.get_digital_currency_intraday(symbol='XRP', market='USD')\n",
    "data.describe()"
   ]
  },
  {
   "cell_type": "code",
   "execution_count": 11,
   "metadata": {},
   "outputs": [
    {
     "data": {
      "image/png": "[encoded data removed]",
      "text/plain": [
       "<Figure size 432x288 with 1 Axes>"
      ]
     },
     "metadata": {},
     "output_type": "display_data"
    }
   ],
   "source": [
    "data['1b. price (USD)'].plot()\n",
    "# No padding here\n",
    "plt.tight_layout()\n",
    "plt.title(\"Value for Ripple (XRP) in USD\")\n",
    "plt.grid()\n",
    "plt.show()"
   ]
  }
 ],
 "metadata": {
  "kernelspec": {
   "display_name": "Python 3",
   "language": "python",
   "name": "python3"
  },
  "language_info": {
   "codemirror_mode": {
    "name": "ipython",
    "version": 3
   },
   "file_extension": ".py",
   "mimetype": "text/x-python",
   "name": "python",
   "nbconvert_exporter": "python",
   "pygments_lexer": "ipython3",
   "version": "3.6.5"
  }
 },
 "nbformat": 4,
 "nbformat_minor": 1
}
