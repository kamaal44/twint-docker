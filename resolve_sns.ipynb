{
 "cells": [
  {
   "cell_type": "code",
   "execution_count": null,
   "metadata": {},
   "outputs": [],
   "source": [
    "from twitter_no_rl_tool import *\n",
    "from gather_analysis_helper import *"
   ]
  },
  {
   "cell_type": "code",
   "execution_count": null,
   "metadata": {},
   "outputs": [],
   "source": [
    "dirname = \"dirname\"\n",
    "filename = \"screen_names.txt\""
   ]
  },
  {
   "cell_type": "code",
   "execution_count": null,
   "metadata": {},
   "outputs": [],
   "source": [
    "sn_file = os.path.join(dirname, filename)\n",
    "id_file = os.path.join(dirname, filename[:-4] + \"_ids.txt\")\n",
    "snlist = set()\n",
    "line_count = 0\n",
    "with open(sn_file, \"r\") as f:\n",
    "    for line in f:\n",
    "        line_count += 1\n",
    "        snlist.add(line.strip())\n",
    "print(str(line_count))\n",
    "print(len(snlist))\n",
    "details = resolve_sns_no_save(list(snlist))\n",
    "print(\"\")\n",
    "print(len(details))\n",
    "det_file = os.path.join(dirname, filename[:-4] + \"_details.json\")\n",
    "save_json(details, det_file)\n",
    "id_list = set()\n",
    "found_sns = set()\n",
    "for d in details:\n",
    "    found_sns.add(d[\"screen_name\"])\n",
    "    id_list.add(d[\"id_str\"])\n",
    "print(len(id_list))\n",
    "with open(id_file, \"w\") as f:\n",
    "    for id_str in id_list:\n",
    "        f.write(id_str+\"\\n\")\n",
    "diff = snlist.difference(found_sns)\n",
    "print(\"Not found: \")\n",
    "print_sn_list(list(diff))"
   ]
  },
  {
   "cell_type": "code",
   "execution_count": null,
   "metadata": {},
   "outputs": [],
   "source": []
  }
 ],
 "metadata": {
  "kernelspec": {
   "display_name": "Python 3",
   "language": "python",
   "name": "python3"
  },
  "language_info": {
   "codemirror_mode": {
    "name": "ipython",
    "version": 3
   },
   "file_extension": ".py",
   "mimetype": "text/x-python",
   "name": "python",
   "nbconvert_exporter": "python",
   "pygments_lexer": "ipython3",
   "version": "3.7.1"
  }
 },
 "nbformat": 4,
 "nbformat_minor": 2
}
